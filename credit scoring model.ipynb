{
 "cells": [
  {
   "cell_type": "markdown",
   "id": "46768c06-df4c-4e75-991e-43cf68239557",
   "metadata": {},
   "source": [
    "# step 1: import libraries"
   ]
  },
  {
   "cell_type": "code",
   "execution_count": 60,
   "id": "616f7f69-a539-4c53-8355-530132668081",
   "metadata": {},
   "outputs": [],
   "source": [
    "import pandas as pd\n",
    "import numpy as np\n",
    "from sklearn.model_selection import train_test_split\n",
    "from sklearn.preprocessing import StandardScaler\n",
    "from sklearn.metrics import classification_report, confusion_matrix, roc_auc_score\n",
    "from sklearn.linear_model import LogisticRegression\n",
    "from sklearn.tree import DecisionTreeClassifier\n",
    "from sklearn.ensemble import RandomForestClassifier"
   ]
  },
  {
   "cell_type": "markdown",
   "id": "4a697e2e-534f-493e-beba-0360cc6d76d2",
   "metadata": {},
   "source": [
    "# Step 2: Load Dataset"
   ]
  },
  {
   "cell_type": "code",
   "execution_count": 61,
   "id": "72e4049f-134e-47f0-bb81-d9e0d578e031",
   "metadata": {},
   "outputs": [
    {
     "name": "stdout",
     "output_type": "stream",
     "text": [
      "Shape: (4521, 17)\n",
      "Columns: ['age', 'job', 'marital', 'education', 'default', 'balance', 'housing', 'loan', 'contact', 'day', 'month', 'duration', 'campaign', 'pdays', 'previous', 'poutcome', 'y']\n"
     ]
    }
   ],
   "source": [
    "def load_bank_csv(path=\"bank.csv\"):\n",
    "    df = pd.read_csv(path)                    # try default\n",
    "    if df.shape[1] == 1:                      # likely semicolon-delimited\n",
    "        df = pd.read_csv(path, sep=\";\")\n",
    "    return df\n",
    "\n",
    "df = load_bank_csv(\"bank.csv\")\n",
    "print(\"Shape:\", df.shape)\n",
    "print(\"Columns:\", list(df.columns))"
   ]
  },
  {
   "cell_type": "markdown",
   "id": "1c390f0b-03a3-4b2d-9dcc-3e8d8c3ce5a1",
   "metadata": {},
   "source": [
    "# step 3: Data preprocessing"
   ]
  },
  {
   "cell_type": "code",
   "execution_count": 62,
   "id": "1fd16f18-9557-4359-acd4-f8aaabcb63b4",
   "metadata": {},
   "outputs": [],
   "source": [
    "if y.dtype == \"O\":\n",
    "    # common mapping for bank marketing dataset\n",
    "    mapping = {\"yes\": 1, \"no\": 0, \"y\": 1, \"n\": 0, \"true\": 1, \"false\": 0}\n",
    "    y = y.str.lower().map(mapping)\n",
    "    if y.isna().any():\n",
    "        # fallback: factorize any strings to integers\n",
    "        y, _ = pd.factorize(df[target_col])\n",
    "y = y.astype(int)\n",
    "X = pd.get_dummies(X, drop_first=True)\n",
    "X = X.fillna(0)\n",
    "if y.nunique() < 2:\n",
    "    raise ValueError(\"Label column has only one class in the whole dataset.\")"
   ]
  },
  {
   "cell_type": "code",
   "execution_count": 63,
   "id": "36e26afc-c83b-4a21-a7d4-f3cf1168eb1e",
   "metadata": {},
   "outputs": [],
   "source": [
    "X_train, X_test, y_train, y_test = train_test_split(\n",
    "    X, y, test_size=0.2, random_state=42, stratify=y\n",
    ")\n",
    "# (Optional) scale features for LR; trees don’t require it\n",
    "scaler = StandardScaler(with_mean=False)  # sparse-safe if X gets large after dummies\n",
    "X_train = scaler.fit_transform(X_train)\n",
    "X_test  = scaler.transform(X_test)\n",
    "# Models\n",
    "models = {\n",
    "    \"Logistic Regression\": LogisticRegression(max_iter=1000, class_weight=\"balanced\"),\n",
    "    \"Decision Tree\":       DecisionTreeClassifier(class_weight=\"balanced\", random_state=42),\n",
    "    \"Random Forest\":       RandomForestClassifier(class_weight=\"balanced\", n_estimators=300, random_state=42)\n",
    "}"
   ]
  },
  {
   "cell_type": "markdown",
   "id": "64136c04-3357-4017-91cd-442e1a2fe0e2",
   "metadata": {},
   "source": [
    "# Step 4: Model Training"
   ]
  },
  {
   "cell_type": "code",
   "execution_count": 64,
   "id": "52f337eb-60a1-4d82-8977-735d1393e6d7",
   "metadata": {},
   "outputs": [
    {
     "name": "stdout",
     "output_type": "stream",
     "text": [
      "\n",
      "=== Logistic Regression ===\n",
      "Confusion Matrix:\n",
      " [[664 137]\n",
      " [ 22  82]]\n",
      "Classification Report:\n",
      "               precision    recall  f1-score   support\n",
      "\n",
      "           0     0.9679    0.8290    0.8931       801\n",
      "           1     0.3744    0.7885    0.5077       104\n",
      "\n",
      "    accuracy                         0.8243       905\n",
      "   macro avg     0.6712    0.8087    0.7004       905\n",
      "weighted avg     0.8997    0.8243    0.8488       905\n",
      "\n",
      "ROC-AUC: 0.8909\n",
      "\n",
      "=== Decision Tree ===\n",
      "Confusion Matrix:\n",
      " [[733  68]\n",
      " [ 59  45]]\n",
      "Classification Report:\n",
      "               precision    recall  f1-score   support\n",
      "\n",
      "           0     0.9255    0.9151    0.9203       801\n",
      "           1     0.3982    0.4327    0.4147       104\n",
      "\n",
      "    accuracy                         0.8597       905\n",
      "   macro avg     0.6619    0.6739    0.6675       905\n",
      "weighted avg     0.8649    0.8597    0.8622       905\n",
      "\n",
      "ROC-AUC: 0.6739\n",
      "\n",
      "=== Random Forest ===\n",
      "Confusion Matrix:\n",
      " [[789  12]\n",
      " [ 87  17]]\n",
      "Classification Report:\n",
      "               precision    recall  f1-score   support\n",
      "\n",
      "           0     0.9007    0.9850    0.9410       801\n",
      "           1     0.5862    0.1635    0.2556       104\n",
      "\n",
      "    accuracy                         0.8906       905\n",
      "   macro avg     0.7434    0.5742    0.5983       905\n",
      "weighted avg     0.8645    0.8906    0.8622       905\n",
      "\n",
      "ROC-AUC: 0.9066\n",
      "\n",
      "Top 15 important features (Random Forest):\n",
      "duration            0.333916\n",
      "balance             0.086770\n",
      "age                 0.079189\n",
      "day                 0.071843\n",
      "campaign            0.039696\n",
      "pdays               0.033401\n",
      "contact_unknown     0.027506\n",
      "poutcome_success    0.026216\n",
      "previous            0.023417\n",
      "housing_yes         0.018752\n",
      "month_may           0.016253\n",
      "month_oct           0.016196\n",
      "marital_married     0.014218\n",
      "loan_yes            0.013503\n",
      "job_blue-collar     0.013303\n",
      "dtype: float64\n"
     ]
    }
   ],
   "source": [
    "for name, model in models.items():\n",
    "    model.fit(X_train, y_train)\n",
    "    y_pred = model.predict(X_test)\n",
    "    # Use probabilities for ROC-AUC when available, else fallback to labels\n",
    "    try:\n",
    "        y_proba = model.predict_proba(X_test)[:, 1]\n",
    "        auc = roc_auc_score(y_test, y_proba)\n",
    "    except Exception:\n",
    "        auc = roc_auc_score(y_test, y_pred)\n",
    "\n",
    "    print(f\"\\n=== {name} ===\")\n",
    "    print(\"Confusion Matrix:\\n\", confusion_matrix(y_test, y_pred))\n",
    "    print(\"Classification Report:\\n\", classification_report(y_test, y_pred, digits=4))\n",
    "    print(\"ROC-AUC:\", round(auc, 4))\n",
    "\n",
    "# 11) (Nice to have) Feature importances for Random Forest\n",
    "rf = models[\"Random Forest\"]\n",
    "if hasattr(rf, \"feature_importances_\"):\n",
    "    importances = pd.Series(rf.feature_importances_, index=X.columns).sort_values(ascending=False)\n",
    "    print(\"\\nTop 15 important features (Random Forest):\")\n",
    "    print(importances.head(15))"
   ]
  },
  {
   "cell_type": "code",
   "execution_count": null,
   "id": "2e7798e8-b5f4-431f-a1e0-bad4b23973de",
   "metadata": {},
   "outputs": [],
   "source": []
  }
 ],
 "metadata": {
  "kernelspec": {
   "display_name": "Python [conda env:anaconda3]",
   "language": "python",
   "name": "conda-env-anaconda3-py"
  },
  "language_info": {
   "codemirror_mode": {
    "name": "ipython",
    "version": 3
   },
   "file_extension": ".py",
   "mimetype": "text/x-python",
   "name": "python",
   "nbconvert_exporter": "python",
   "pygments_lexer": "ipython3",
   "version": "3.13.5"
  }
 },
 "nbformat": 4,
 "nbformat_minor": 5
}
